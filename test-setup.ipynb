{
 "cells": [
  {
   "cell_type": "markdown",
   "id": "0a256fee-8448-421d-9579-2aa25ecd1544",
   "metadata": {},
   "source": [
    "## Test pre-workshop setup\n",
    "\n",
    "<a target=\"_blank\" href=\"https://colab.research.google.com/github/contrailcirrus/2024-09-ge-workshop/blob/main/test-setup.ipynb\">\n",
    "  <img src=\"https://colab.research.google.com/assets/colab-badge.svg\" alt=\"Open In Colab\"/>\n",
    "</a>"
   ]
  },
  {
   "cell_type": "markdown",
   "id": "463777eb-0832-4a5f-901f-3799e8b09b00",
   "metadata": {},
   "source": [
    "#### Authenticate with GCP account\n",
    "\n",
    "`<your project id>` must be replaced with the project ID you plan to use for the workshop."
   ]
  },
  {
   "cell_type": "code",
   "execution_count": null,
   "id": "f9676fd8-861f-448f-9cb9-5df517d8a9b1",
   "metadata": {},
   "outputs": [],
   "source": [
    "from google.colab import auth\n",
    "auth.authenticate_user(project_id=\"...\")"
   ]
  },
  {
   "cell_type": "markdown",
   "id": "1e2286ba-0703-46b4-b1d9-d107ea774c4f",
   "metadata": {},
   "source": [
    "#### Search a public BigQuery table for temperature reports from a station in Schenectady"
   ]
  },
  {
   "cell_type": "code",
   "execution_count": null,
   "id": "2b9d8790-0573-45b3-b457-eb66a0a7d3d7",
   "metadata": {},
   "outputs": [],
   "source": [
    "from google.cloud import bigquery"
   ]
  },
  {
   "cell_type": "code",
   "execution_count": null,
   "id": "aab0afae-5aac-4fd8-a8c2-236751503a06",
   "metadata": {},
   "outputs": [],
   "source": [
    "client = bigquery.Client()\n",
    "QUERY = (\n",
    "    'SELECT date, max, min FROM `bigquery-public-data.noaa_gsod.gsod2024` '\n",
    "    'WHERE wban=\"04741\" '\n",
    "    'ORDER BY date ASC'\n",
    ")\n",
    "df = client.query(QUERY).to_dataframe()\n",
    "df"
   ]
  },
  {
   "cell_type": "markdown",
   "id": "35675c99-c032-4420-af96-0dc0cbac1dd2",
   "metadata": {},
   "source": [
    "#### Plot results"
   ]
  },
  {
   "cell_type": "code",
   "execution_count": null,
   "id": "2152d2d5-bb6f-4274-8513-7a5a7c79f601",
   "metadata": {},
   "outputs": [],
   "source": [
    "import matplotlib.dates as dates\n",
    "import matplotlib.pyplot as plt"
   ]
  },
  {
   "cell_type": "code",
   "execution_count": null,
   "id": "b5809f76-e8b4-4fe1-962d-b2ac67f21f3f",
   "metadata": {},
   "outputs": [],
   "source": [
    "plt.plot(df[\"date\"], df[\"max\"], \"k-\", label=\"high\")\n",
    "plt.plot(df[\"date\"], df[\"min\"], \"k--\", label=\"low\")\n",
    "\n",
    "plt.legend(loc=\"best\", frameon=False)\n",
    "\n",
    "plt.xlabel(\"Date\")\n",
    "plt.gca().xaxis.set_major_formatter(dates.DateFormatter(\"%m/%d\\n%Y\"))\n",
    "\n",
    "plt.ylabel(r\"Temperature ($^{\\circ}$F)\")\n",
    "\n",
    "plt.title(\"Schenectady, NY\")"
   ]
  }
 ],
 "metadata": {
  "kernelspec": {
   "display_name": "Python 3 (ipykernel)",
   "language": "python",
   "name": "python3"
  },
  "language_info": {
   "codemirror_mode": {
    "name": "ipython",
    "version": 3
   },
   "file_extension": ".py",
   "mimetype": "text/x-python",
   "name": "python",
   "nbconvert_exporter": "python",
   "pygments_lexer": "ipython3",
   "version": "3.12.4"
  }
 },
 "nbformat": 4,
 "nbformat_minor": 5
}
